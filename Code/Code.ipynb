{
 "cells": [
  {
   "cell_type": "code",
   "execution_count": 3,
   "metadata": {},
   "outputs": [
    {
     "name": "stdout",
     "output_type": "stream",
     "text": [
      "Requirement already satisfied: PyPDF2 in c:\\users\\abbad\\appdata\\local\\packages\\pythonsoftwarefoundation.python.3.9_qbz5n2kfra8p0\\localcache\\local-packages\\python39\\site-packages (3.0.1)\n",
      "Requirement already satisfied: typing_extensions>=3.10.0.0 in c:\\users\\abbad\\appdata\\local\\packages\\pythonsoftwarefoundation.python.3.9_qbz5n2kfra8p0\\localcache\\local-packages\\python39\\site-packages (from PyPDF2) (4.1.1)\n",
      "Requirement already satisfied: pycryptodome in c:\\users\\abbad\\appdata\\local\\packages\\pythonsoftwarefoundation.python.3.9_qbz5n2kfra8p0\\localcache\\local-packages\\python39\\site-packages (3.17)\n"
     ]
    }
   ],
   "source": [
    "!pip install PyPDF2\n",
    "!pip install pycryptodome\n",
    "\n",
    "from PyPDF2 import PdfReader\n",
    "import json\n",
    "\n",
    "filename = 'BMW-2021.pdf'\n",
    "\n",
    "x = filename.split(\".pdf\")\n",
    "report_name = x[0]\n",
    "y = report_name.split(\"-\")\n",
    "report_company_name=y[0]\n",
    "report_year=y[1]\n"
   ]
  },
  {
   "cell_type": "code",
   "execution_count": 4,
   "metadata": {},
   "outputs": [
    {
     "name": "stdout",
     "output_type": "stream",
     "text": [
      "353\n",
      "We currently record carbon emissions associated with all our \n",
      "equity investments and a significant proportion of our \n",
      "fixed-income assets. The relevant emissions data are includ-\n",
      "ed in the TCFD Report relating to our UK pension plan, which \n",
      "is required to be prepared annually in line with legislation that \n",
      "came into force in 2021 for larger-scale UK pension schemes.\n",
      "In addition, standard benchmarks for measuring the invest -\n",
      "ment performance of liquid assets were revised again in \n",
      "2021 with the aid of ESG-oriented indices. \n",
      "The volume of non-liquid pension plan assets invested in our \n",
      "various impact funds continues to grow according to sched-\n",
      "ule. The investments made to date in this area relate not \n",
      "only to climate protection, but also to other Sustainable De-\n",
      "velopment Goals (SDGs) set by the UN. In 2021, the focus of \n",
      "investment was on making cities more sustainable and ad-\n",
      "dressing the consequences of climate change.Financial market presence with sustainability credentials \n",
      "Regular, in-depth communication with the capital market \n",
      "has always been given a high priority within the BMW  Group. \n",
      "In the meantime, sustainability has become a decisive cri-\n",
      "terion on financial markets. Furthermore, investors and fi-\n",
      "nancial analysts alike are increasingly considering environ-\n",
      "mental, social and governance (ESG) aspects in their \n",
      "investment recommendations and decision-making pro-\n",
      "cesses. \n",
      "Against the background of the Paris Climate Agreement, pol-\n",
      "icymakers in Europe are also increasingly addressing the is-\n",
      "sues of climate protection and sustainability. For example, \n",
      "the EU Action Plan for Sustainable Finance aims to direct \n",
      "capital flows towards sustainable economic activities. A key \n",
      "element of the EU Action Plan is the introduction of a stand-\n",
      "ardised system to classify what is sustainable and what is \n",
      "not. ↗ EU T axonomy  \n",
      "Since 2019, sustainability criteria have also been a major \n",
      "factor for the BMW  Group’s pension fund investment strate-\n",
      "gy. The current focus is on measuring the carbon footprint of \n",
      "significant parts of these assets on the one hand and the \n",
      "risks attached to their future performance on the other. The \n",
      "BMW  Group aims to achieve carbon neutrality with respect \n",
      "to its pension plan assets by 2050 at the latest.Participation in public policy development and work in \n",
      "associations\n",
      "The BMW  Group maintains an active, open and transparent \n",
      "dialogue with representatives of politics, trade unions, asso-\n",
      "ciations and non-governmental organisations (NGOs). The \n",
      "aim is to play a constructive and transparent role in helping \n",
      "shape the general political framework regarding the Group’s \n",
      "business activities. \n",
      "Apart from its own activities in the area of public policy de-\n",
      "velopment, the BMW  Group is a member of numerous asso-\n",
      "ciations in various countries. Membership is voluntary in the \n",
      "majority of cases, although there are some situations in \n",
      "which it is necessary to join associations in order to comply \n",
      "with legal requirements.   \n",
      "↗ BMW  Group Lobbying Policy\n",
      "At the beginning of 2021, the BMW  Group assumed the \n",
      "presi dency of ACEA, the Association of European Automo-\n",
      "bile Manufacturers (Association des Constructeurs Eu-\n",
      "ropéens d’Automobiles). In December 2021, it was confirmed \n",
      "that the BMW  Group will continue to chair the association for \n",
      "a further year (2022). \n",
      "In the interest of transparency, the BMW  Group always dis-\n",
      "closes the most important association memberships on its \n",
      "website ↗ BMW  Group List of Memberships .29\n",
      "T o Our Stakeholders Group  Financial Statements Corporate Governance Remuneration  Report Other  Information Combined Management Report BMW Group Report 2021\n",
      "Dialogue with Stakeholders\n"
     ]
    }
   ],
   "source": [
    "# creating a pdf reader object\n",
    "reader = PdfReader(filename)\n",
    "# printing number of pages in pdf file\n",
    "print(len(reader.pages))\n",
    "page_number = 29\n",
    "# getting a specific page from the pdf file\n",
    "page = reader.pages[page_number - 1]\n",
    "\n",
    "# extracting text from page\n",
    "text = page.extract_text()\n",
    "print(text)\n"
   ]
  },
  {
   "cell_type": "code",
   "execution_count": 5,
   "metadata": {},
   "outputs": [
    {
     "name": "stdout",
     "output_type": "stream",
     "text": [
      "{\n",
      "   \"id\": 1,\n",
      "   \"page_number\": 29,\n",
      "   \"text\": \"We currently record carbon emissions associated with all our \\nequity investments and a significant proportion of our \\nfixed-income assets. The relevant emissions data are includ-\\ned in the TCFD Report relating to our UK pension plan, which \\nis required to be prepared annually in line with legislation that \\ncame into force in 2021 for larger-scale UK pension schemes.\\nIn addition, standard benchmarks for measuring the invest -\\nment performance of liquid assets were revised again in \\n2021 with the aid of ESG-oriented indices. \\nThe volume of non-liquid pension plan assets invested in our \\nvarious impact funds continues to grow according to sched-\\nule. The investments made to date in this area relate not \\nonly to climate protection, but also to other Sustainable De-\\nvelopment Goals (SDGs) set by the UN. In 2021, the focus of \\ninvestment was on making cities more sustainable and ad-\\ndressing the consequences of climate change.Financial market presence with sustainability credentials \\nRegular, in-depth communication with the capital market \\nhas always been given a high priority within the BMW  Group. \\nIn the meantime, sustainability has become a decisive cri-\\nterion on financial markets. Furthermore, investors and fi-\\nnancial analysts alike are increasingly considering environ-\\nmental, social and governance (ESG) aspects in their \\ninvestment recommendations and decision-making pro-\\ncesses. \\nAgainst the background of the Paris Climate Agreement, pol-\\nicymakers in Europe are also increasingly addressing the is-\\nsues of climate protection and sustainability. For example, \\nthe EU Action Plan for Sustainable Finance aims to direct \\ncapital flows towards sustainable economic activities. A key \\nelement of the EU Action Plan is the introduction of a stand-\\nardised system to classify what is sustainable and what is \\nnot. \\u2197 EU T axonomy  \\nSince 2019, sustainability criteria have also been a major \\nfactor for the BMW  Group\\u2019s pension fund investment strate-\\ngy. The current focus is on measuring the carbon footprint of \\nsignificant parts of these assets on the one hand and the \\nrisks attached to their future performance on the other. The \\nBMW  Group aims to achieve carbon neutrality with respect \\nto its pension plan assets by 2050 at the latest.Participation in public policy development and work in \\nassociations\\nThe BMW  Group maintains an active, open and transparent \\ndialogue with representatives of politics, trade unions, asso-\\nciations and non-governmental organisations (NGOs). The \\naim is to play a constructive and transparent role in helping \\nshape the general political framework regarding the Group\\u2019s \\nbusiness activities. \\nApart from its own activities in the area of public policy de-\\nvelopment, the BMW  Group is a member of numerous asso-\\nciations in various countries. Membership is voluntary in the \\nmajority of cases, although there are some situations in \\nwhich it is necessary to join associations in order to comply \\nwith legal requirements.   \\n\\u2197 BMW  Group Lobbying Policy\\nAt the beginning of 2021, the BMW  Group assumed the \\npresi dency of ACEA, the Association of European Automo-\\nbile Manufacturers (Association des Constructeurs Eu-\\nrop\\u00e9ens d\\u2019Automobiles). In December 2021, it was confirmed \\nthat the BMW  Group will continue to chair the association for \\na further year (2022). \\nIn the interest of transparency, the BMW  Group always dis-\\ncloses the most important association memberships on its \\nwebsite \\u2197 BMW  Group List of Memberships .29\\nT o Our Stakeholders Group  Financial Statements Corporate Governance Remuneration  Report Other  Information Combined Management Report BMW Group Report 2021\\nDialogue with Stakeholders\",\n",
      "   \"total_pages\": 353,\n",
      "   \"filename\": \"BMW-2021.pdf\",\n",
      "   \"report_name\": \"BMW-2021\",\n",
      "   \"report_company_name\": \"BMW\",\n",
      "   \"report_year\": \"2021\"\n",
      "}\n"
     ]
    }
   ],
   "source": [
    "text_block = {\n",
    "    \"id\": 1,\n",
    "    \"page_number\": page_number,\n",
    "    \"text\": text,\n",
    "    \"total_pages\": len(reader.pages),\n",
    "    \"filename\": filename,\n",
    "    \"report_name\": report_name,\n",
    "    \"report_company_name\": report_company_name,\n",
    "    \"report_year\": report_year\n",
    "    }\n",
    "\n",
    "\n",
    "# Serializing json  \n",
    "json_object = json.dumps(text_block, indent = 3) \n",
    "print(json_object)"
   ]
  }
 ],
 "metadata": {
  "kernelspec": {
   "display_name": "Python 3.9.13 64-bit (microsoft store)",
   "language": "python",
   "name": "python3"
  },
  "language_info": {
   "codemirror_mode": {
    "name": "ipython",
    "version": 3
   },
   "file_extension": ".py",
   "mimetype": "text/x-python",
   "name": "python",
   "nbconvert_exporter": "python",
   "pygments_lexer": "ipython3",
   "version": "3.9.13"
  },
  "orig_nbformat": 4,
  "vscode": {
   "interpreter": {
    "hash": "6b63902c89dd75090533b221f31724a25e9f5c99da200e3b2ecf858ad9936dd5"
   }
  }
 },
 "nbformat": 4,
 "nbformat_minor": 2
}
